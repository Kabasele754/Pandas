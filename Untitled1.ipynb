{
 "cells": [
  {
   "cell_type": "code",
   "execution_count": 1,
   "id": "d98291de",
   "metadata": {},
   "outputs": [
    {
     "name": "stdout",
     "output_type": "stream",
     "text": [
      "0      John\n",
      "1    Jeremy\n",
      "2    Franck\n",
      "3    Taylor\n",
      "dtype: object\n"
     ]
    }
   ],
   "source": [
    "# importing pandas library\n",
    "import pandas as pd\n",
    " \n",
    "# Creating a list\n",
    "author = ['John', 'Jeremy',\n",
    "          'Franck', 'Taylor']\n",
    "# Creating a Series by passing list\n",
    "# variable to Series() function\n",
    "auth_series = pd.Series(author)\n",
    "# Printing Series\n",
    "print(auth_series)"
   ]
  },
  {
   "cell_type": "markdown",
   "id": "4679004d",
   "metadata": {},
   "source": [
    "### Let’s check the type of Series:"
   ]
  },
  {
   "cell_type": "code",
   "execution_count": null,
   "id": "f59ec5d8",
   "metadata": {},
   "outputs": [],
   "source": []
  }
 ],
 "metadata": {
  "kernelspec": {
   "display_name": "Python 3 (ipykernel)",
   "language": "python",
   "name": "python3"
  },
  "language_info": {
   "codemirror_mode": {
    "name": "ipython",
    "version": 3
   },
   "file_extension": ".py",
   "mimetype": "text/x-python",
   "name": "python",
   "nbconvert_exporter": "python",
   "pygments_lexer": "ipython3",
   "version": "3.10.9"
  }
 },
 "nbformat": 4,
 "nbformat_minor": 5
}
