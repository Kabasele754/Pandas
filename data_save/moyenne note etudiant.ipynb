{
 "cells": [
  {
   "cell_type": "markdown",
   "id": "a947aaea",
   "metadata": {},
   "source": [
    "# Un bon exemple pour le calcule de la moyenne des etudiants avec pandas\n"
   ]
  },
  {
   "cell_type": "code",
   "execution_count": 214,
   "id": "d20ac5b8",
   "metadata": {},
   "outputs": [],
   "source": [
    "# Importation de package \n",
    "import pandas as pd\n",
    "import matplotlib.pyplot as plt\n",
    "import seaborn as sns"
   ]
  },
  {
   "cell_type": "code",
   "execution_count": 215,
   "id": "598549f4",
   "metadata": {},
   "outputs": [],
   "source": [
    "# Creation d'un data fram a partir d'un dictionnaire\n",
    "df_etudiant = pd.DataFrame({\n",
    "    \"Nom\":[\"Walelu \", \"Chancelle\", \"Franck\", \"Jovial\", \"Josmar\",\"Gedeon\",\"Jeremy\",\"Patrick\"],\n",
    "    \"Genre\":[\"F \", \"F\", \"M\", \"F\", \"F\",\"M\",\"M\",\"M\"],\n",
    "    \"Programmation\": [12,10,14,16,18,2,5,6],\n",
    "    \"Algorithme\": [4,6,12,17,9,6,10,16],\n",
    "    \"Math\":[10,14,15,17,18,12,14,10],\n",
    "    \"Physique\":[10,15,17,15,14,4,10,20]\n",
    "})"
   ]
  },
  {
   "cell_type": "code",
   "execution_count": 230,
   "id": "73099151",
   "metadata": {},
   "outputs": [
    {
     "data": {
      "text/html": [
       "<div>\n",
       "<style scoped>\n",
       "    .dataframe tbody tr th:only-of-type {\n",
       "        vertical-align: middle;\n",
       "    }\n",
       "\n",
       "    .dataframe tbody tr th {\n",
       "        vertical-align: top;\n",
       "    }\n",
       "\n",
       "    .dataframe thead th {\n",
       "        text-align: right;\n",
       "    }\n",
       "</style>\n",
       "<table border=\"1\" class=\"dataframe\">\n",
       "  <thead>\n",
       "    <tr style=\"text-align: right;\">\n",
       "      <th></th>\n",
       "      <th>Nom</th>\n",
       "      <th>Genre</th>\n",
       "      <th>Programmation</th>\n",
       "      <th>Algorithme</th>\n",
       "      <th>Math</th>\n",
       "      <th>Physique</th>\n",
       "      <th>Total</th>\n",
       "      <th>Moyenne</th>\n",
       "    </tr>\n",
       "  </thead>\n",
       "  <tbody>\n",
       "    <tr>\n",
       "      <th>0</th>\n",
       "      <td>Walelu</td>\n",
       "      <td>NaN</td>\n",
       "      <td>12</td>\n",
       "      <td>4</td>\n",
       "      <td>10</td>\n",
       "      <td>10</td>\n",
       "      <td>36</td>\n",
       "      <td>12.000000</td>\n",
       "    </tr>\n",
       "    <tr>\n",
       "      <th>1</th>\n",
       "      <td>Chancelle</td>\n",
       "      <td>1.0</td>\n",
       "      <td>10</td>\n",
       "      <td>6</td>\n",
       "      <td>14</td>\n",
       "      <td>15</td>\n",
       "      <td>45</td>\n",
       "      <td>15.000000</td>\n",
       "    </tr>\n",
       "    <tr>\n",
       "      <th>2</th>\n",
       "      <td>Franck</td>\n",
       "      <td>0.0</td>\n",
       "      <td>14</td>\n",
       "      <td>12</td>\n",
       "      <td>15</td>\n",
       "      <td>17</td>\n",
       "      <td>58</td>\n",
       "      <td>19.333333</td>\n",
       "    </tr>\n",
       "    <tr>\n",
       "      <th>3</th>\n",
       "      <td>Jovial</td>\n",
       "      <td>1.0</td>\n",
       "      <td>16</td>\n",
       "      <td>17</td>\n",
       "      <td>17</td>\n",
       "      <td>15</td>\n",
       "      <td>65</td>\n",
       "      <td>21.666667</td>\n",
       "    </tr>\n",
       "    <tr>\n",
       "      <th>4</th>\n",
       "      <td>Josmar</td>\n",
       "      <td>1.0</td>\n",
       "      <td>18</td>\n",
       "      <td>9</td>\n",
       "      <td>18</td>\n",
       "      <td>14</td>\n",
       "      <td>59</td>\n",
       "      <td>19.666667</td>\n",
       "    </tr>\n",
       "  </tbody>\n",
       "</table>\n",
       "</div>"
      ],
      "text/plain": [
       "         Nom  Genre  Programmation  Algorithme  Math  Physique  Total  \\\n",
       "0    Walelu     NaN             12           4    10        10     36   \n",
       "1  Chancelle    1.0             10           6    14        15     45   \n",
       "2     Franck    0.0             14          12    15        17     58   \n",
       "3     Jovial    1.0             16          17    17        15     65   \n",
       "4     Josmar    1.0             18           9    18        14     59   \n",
       "\n",
       "     Moyenne  \n",
       "0  12.000000  \n",
       "1  15.000000  \n",
       "2  19.333333  \n",
       "3  21.666667  \n",
       "4  19.666667  "
      ]
     },
     "execution_count": 230,
     "metadata": {},
     "output_type": "execute_result"
    }
   ],
   "source": [
    "# Selection le 5 prmier element de de votre dataframe\n",
    "df_etudiant.head()"
   ]
  },
  {
   "cell_type": "code",
   "execution_count": 231,
   "id": "143c7c08",
   "metadata": {},
   "outputs": [
    {
     "data": {
      "text/html": [
       "<div>\n",
       "<style scoped>\n",
       "    .dataframe tbody tr th:only-of-type {\n",
       "        vertical-align: middle;\n",
       "    }\n",
       "\n",
       "    .dataframe tbody tr th {\n",
       "        vertical-align: top;\n",
       "    }\n",
       "\n",
       "    .dataframe thead th {\n",
       "        text-align: right;\n",
       "    }\n",
       "</style>\n",
       "<table border=\"1\" class=\"dataframe\">\n",
       "  <thead>\n",
       "    <tr style=\"text-align: right;\">\n",
       "      <th></th>\n",
       "      <th>Nom</th>\n",
       "      <th>Genre</th>\n",
       "      <th>Programmation</th>\n",
       "      <th>Algorithme</th>\n",
       "      <th>Math</th>\n",
       "      <th>Physique</th>\n",
       "      <th>Total</th>\n",
       "      <th>Moyenne</th>\n",
       "    </tr>\n",
       "  </thead>\n",
       "  <tbody>\n",
       "    <tr>\n",
       "      <th>3</th>\n",
       "      <td>Jovial</td>\n",
       "      <td>1.0</td>\n",
       "      <td>16</td>\n",
       "      <td>17</td>\n",
       "      <td>17</td>\n",
       "      <td>15</td>\n",
       "      <td>65</td>\n",
       "      <td>21.666667</td>\n",
       "    </tr>\n",
       "    <tr>\n",
       "      <th>4</th>\n",
       "      <td>Josmar</td>\n",
       "      <td>1.0</td>\n",
       "      <td>18</td>\n",
       "      <td>9</td>\n",
       "      <td>18</td>\n",
       "      <td>14</td>\n",
       "      <td>59</td>\n",
       "      <td>19.666667</td>\n",
       "    </tr>\n",
       "    <tr>\n",
       "      <th>5</th>\n",
       "      <td>Gedeon</td>\n",
       "      <td>0.0</td>\n",
       "      <td>2</td>\n",
       "      <td>6</td>\n",
       "      <td>12</td>\n",
       "      <td>4</td>\n",
       "      <td>24</td>\n",
       "      <td>8.000000</td>\n",
       "    </tr>\n",
       "    <tr>\n",
       "      <th>6</th>\n",
       "      <td>Jeremy</td>\n",
       "      <td>0.0</td>\n",
       "      <td>5</td>\n",
       "      <td>10</td>\n",
       "      <td>14</td>\n",
       "      <td>10</td>\n",
       "      <td>39</td>\n",
       "      <td>13.000000</td>\n",
       "    </tr>\n",
       "    <tr>\n",
       "      <th>7</th>\n",
       "      <td>Patrick</td>\n",
       "      <td>0.0</td>\n",
       "      <td>6</td>\n",
       "      <td>16</td>\n",
       "      <td>10</td>\n",
       "      <td>20</td>\n",
       "      <td>52</td>\n",
       "      <td>17.333333</td>\n",
       "    </tr>\n",
       "  </tbody>\n",
       "</table>\n",
       "</div>"
      ],
      "text/plain": [
       "       Nom  Genre  Programmation  Algorithme  Math  Physique  Total    Moyenne\n",
       "3   Jovial    1.0             16          17    17        15     65  21.666667\n",
       "4   Josmar    1.0             18           9    18        14     59  19.666667\n",
       "5   Gedeon    0.0              2           6    12         4     24   8.000000\n",
       "6   Jeremy    0.0              5          10    14        10     39  13.000000\n",
       "7  Patrick    0.0              6          16    10        20     52  17.333333"
      ]
     },
     "execution_count": 231,
     "metadata": {},
     "output_type": "execute_result"
    }
   ],
   "source": [
    "# Selection le 5 dernier element de de votre dataframe\n",
    "df_etudiant.tail()"
   ]
  },
  {
   "cell_type": "code",
   "execution_count": 217,
   "id": "19611a2c",
   "metadata": {},
   "outputs": [],
   "source": [
    "# Calculer le total\n",
    "df_etudiant[\"Total\"] = df_etudiant[\"Programmation\"] + df_etudiant[\"Algorithme\"]+ df_etudiant[\"Math\"]+ df_etudiant[\"Physique\"]"
   ]
  },
  {
   "cell_type": "code",
   "execution_count": 218,
   "id": "16d76c10",
   "metadata": {},
   "outputs": [
    {
     "data": {
      "text/html": [
       "<div>\n",
       "<style scoped>\n",
       "    .dataframe tbody tr th:only-of-type {\n",
       "        vertical-align: middle;\n",
       "    }\n",
       "\n",
       "    .dataframe tbody tr th {\n",
       "        vertical-align: top;\n",
       "    }\n",
       "\n",
       "    .dataframe thead th {\n",
       "        text-align: right;\n",
       "    }\n",
       "</style>\n",
       "<table border=\"1\" class=\"dataframe\">\n",
       "  <thead>\n",
       "    <tr style=\"text-align: right;\">\n",
       "      <th></th>\n",
       "      <th>Nom</th>\n",
       "      <th>Genre</th>\n",
       "      <th>Programmation</th>\n",
       "      <th>Algorithme</th>\n",
       "      <th>Math</th>\n",
       "      <th>Physique</th>\n",
       "      <th>Total</th>\n",
       "    </tr>\n",
       "  </thead>\n",
       "  <tbody>\n",
       "    <tr>\n",
       "      <th>0</th>\n",
       "      <td>Walelu</td>\n",
       "      <td>F</td>\n",
       "      <td>12</td>\n",
       "      <td>4</td>\n",
       "      <td>10</td>\n",
       "      <td>10</td>\n",
       "      <td>36</td>\n",
       "    </tr>\n",
       "    <tr>\n",
       "      <th>1</th>\n",
       "      <td>Chancelle</td>\n",
       "      <td>F</td>\n",
       "      <td>10</td>\n",
       "      <td>6</td>\n",
       "      <td>14</td>\n",
       "      <td>15</td>\n",
       "      <td>45</td>\n",
       "    </tr>\n",
       "    <tr>\n",
       "      <th>2</th>\n",
       "      <td>Franck</td>\n",
       "      <td>M</td>\n",
       "      <td>14</td>\n",
       "      <td>12</td>\n",
       "      <td>15</td>\n",
       "      <td>17</td>\n",
       "      <td>58</td>\n",
       "    </tr>\n",
       "    <tr>\n",
       "      <th>3</th>\n",
       "      <td>Jovial</td>\n",
       "      <td>F</td>\n",
       "      <td>16</td>\n",
       "      <td>17</td>\n",
       "      <td>17</td>\n",
       "      <td>15</td>\n",
       "      <td>65</td>\n",
       "    </tr>\n",
       "    <tr>\n",
       "      <th>4</th>\n",
       "      <td>Josmar</td>\n",
       "      <td>F</td>\n",
       "      <td>18</td>\n",
       "      <td>9</td>\n",
       "      <td>18</td>\n",
       "      <td>14</td>\n",
       "      <td>59</td>\n",
       "    </tr>\n",
       "    <tr>\n",
       "      <th>5</th>\n",
       "      <td>Gedeon</td>\n",
       "      <td>M</td>\n",
       "      <td>2</td>\n",
       "      <td>6</td>\n",
       "      <td>12</td>\n",
       "      <td>4</td>\n",
       "      <td>24</td>\n",
       "    </tr>\n",
       "    <tr>\n",
       "      <th>6</th>\n",
       "      <td>Jeremy</td>\n",
       "      <td>M</td>\n",
       "      <td>5</td>\n",
       "      <td>10</td>\n",
       "      <td>14</td>\n",
       "      <td>10</td>\n",
       "      <td>39</td>\n",
       "    </tr>\n",
       "    <tr>\n",
       "      <th>7</th>\n",
       "      <td>Patrick</td>\n",
       "      <td>M</td>\n",
       "      <td>6</td>\n",
       "      <td>16</td>\n",
       "      <td>10</td>\n",
       "      <td>20</td>\n",
       "      <td>52</td>\n",
       "    </tr>\n",
       "  </tbody>\n",
       "</table>\n",
       "</div>"
      ],
      "text/plain": [
       "         Nom Genre  Programmation  Algorithme  Math  Physique  Total\n",
       "0    Walelu     F              12           4    10        10     36\n",
       "1  Chancelle     F             10           6    14        15     45\n",
       "2     Franck     M             14          12    15        17     58\n",
       "3     Jovial     F             16          17    17        15     65\n",
       "4     Josmar     F             18           9    18        14     59\n",
       "5     Gedeon     M              2           6    12         4     24\n",
       "6     Jeremy     M              5          10    14        10     39\n",
       "7    Patrick     M              6          16    10        20     52"
      ]
     },
     "execution_count": 218,
     "metadata": {},
     "output_type": "execute_result"
    }
   ],
   "source": [
    "df_etudiant"
   ]
  },
  {
   "cell_type": "code",
   "execution_count": 219,
   "id": "c796f2e4",
   "metadata": {},
   "outputs": [],
   "source": [
    "# Calcule moyenne\n",
    "df_etudiant[\"Moyenne\"] =df_etudiant[\"Total\"]/ len(df_etudiant[2:5])"
   ]
  },
  {
   "cell_type": "code",
   "execution_count": 220,
   "id": "a9818813",
   "metadata": {},
   "outputs": [
    {
     "data": {
      "text/html": [
       "<div>\n",
       "<style scoped>\n",
       "    .dataframe tbody tr th:only-of-type {\n",
       "        vertical-align: middle;\n",
       "    }\n",
       "\n",
       "    .dataframe tbody tr th {\n",
       "        vertical-align: top;\n",
       "    }\n",
       "\n",
       "    .dataframe thead th {\n",
       "        text-align: right;\n",
       "    }\n",
       "</style>\n",
       "<table border=\"1\" class=\"dataframe\">\n",
       "  <thead>\n",
       "    <tr style=\"text-align: right;\">\n",
       "      <th></th>\n",
       "      <th>Nom</th>\n",
       "      <th>Genre</th>\n",
       "      <th>Programmation</th>\n",
       "      <th>Algorithme</th>\n",
       "      <th>Math</th>\n",
       "      <th>Physique</th>\n",
       "      <th>Total</th>\n",
       "      <th>Moyenne</th>\n",
       "    </tr>\n",
       "  </thead>\n",
       "  <tbody>\n",
       "    <tr>\n",
       "      <th>0</th>\n",
       "      <td>Walelu</td>\n",
       "      <td>F</td>\n",
       "      <td>12</td>\n",
       "      <td>4</td>\n",
       "      <td>10</td>\n",
       "      <td>10</td>\n",
       "      <td>36</td>\n",
       "      <td>12.000000</td>\n",
       "    </tr>\n",
       "    <tr>\n",
       "      <th>1</th>\n",
       "      <td>Chancelle</td>\n",
       "      <td>F</td>\n",
       "      <td>10</td>\n",
       "      <td>6</td>\n",
       "      <td>14</td>\n",
       "      <td>15</td>\n",
       "      <td>45</td>\n",
       "      <td>15.000000</td>\n",
       "    </tr>\n",
       "    <tr>\n",
       "      <th>2</th>\n",
       "      <td>Franck</td>\n",
       "      <td>M</td>\n",
       "      <td>14</td>\n",
       "      <td>12</td>\n",
       "      <td>15</td>\n",
       "      <td>17</td>\n",
       "      <td>58</td>\n",
       "      <td>19.333333</td>\n",
       "    </tr>\n",
       "    <tr>\n",
       "      <th>3</th>\n",
       "      <td>Jovial</td>\n",
       "      <td>F</td>\n",
       "      <td>16</td>\n",
       "      <td>17</td>\n",
       "      <td>17</td>\n",
       "      <td>15</td>\n",
       "      <td>65</td>\n",
       "      <td>21.666667</td>\n",
       "    </tr>\n",
       "    <tr>\n",
       "      <th>4</th>\n",
       "      <td>Josmar</td>\n",
       "      <td>F</td>\n",
       "      <td>18</td>\n",
       "      <td>9</td>\n",
       "      <td>18</td>\n",
       "      <td>14</td>\n",
       "      <td>59</td>\n",
       "      <td>19.666667</td>\n",
       "    </tr>\n",
       "    <tr>\n",
       "      <th>5</th>\n",
       "      <td>Gedeon</td>\n",
       "      <td>M</td>\n",
       "      <td>2</td>\n",
       "      <td>6</td>\n",
       "      <td>12</td>\n",
       "      <td>4</td>\n",
       "      <td>24</td>\n",
       "      <td>8.000000</td>\n",
       "    </tr>\n",
       "    <tr>\n",
       "      <th>6</th>\n",
       "      <td>Jeremy</td>\n",
       "      <td>M</td>\n",
       "      <td>5</td>\n",
       "      <td>10</td>\n",
       "      <td>14</td>\n",
       "      <td>10</td>\n",
       "      <td>39</td>\n",
       "      <td>13.000000</td>\n",
       "    </tr>\n",
       "    <tr>\n",
       "      <th>7</th>\n",
       "      <td>Patrick</td>\n",
       "      <td>M</td>\n",
       "      <td>6</td>\n",
       "      <td>16</td>\n",
       "      <td>10</td>\n",
       "      <td>20</td>\n",
       "      <td>52</td>\n",
       "      <td>17.333333</td>\n",
       "    </tr>\n",
       "  </tbody>\n",
       "</table>\n",
       "</div>"
      ],
      "text/plain": [
       "         Nom Genre  Programmation  Algorithme  Math  Physique  Total  \\\n",
       "0    Walelu     F              12           4    10        10     36   \n",
       "1  Chancelle     F             10           6    14        15     45   \n",
       "2     Franck     M             14          12    15        17     58   \n",
       "3     Jovial     F             16          17    17        15     65   \n",
       "4     Josmar     F             18           9    18        14     59   \n",
       "5     Gedeon     M              2           6    12         4     24   \n",
       "6     Jeremy     M              5          10    14        10     39   \n",
       "7    Patrick     M              6          16    10        20     52   \n",
       "\n",
       "     Moyenne  \n",
       "0  12.000000  \n",
       "1  15.000000  \n",
       "2  19.333333  \n",
       "3  21.666667  \n",
       "4  19.666667  \n",
       "5   8.000000  \n",
       "6  13.000000  \n",
       "7  17.333333  "
      ]
     },
     "execution_count": 220,
     "metadata": {},
     "output_type": "execute_result"
    }
   ],
   "source": [
    "df_etudiant"
   ]
  },
  {
   "cell_type": "code",
   "execution_count": 221,
   "id": "ca5a6c26",
   "metadata": {},
   "outputs": [
    {
     "data": {
      "text/plain": [
       "4"
      ]
     },
     "execution_count": 221,
     "metadata": {},
     "output_type": "execute_result"
    }
   ],
   "source": [
    "\n",
    "len(df_etudiant[1:5])"
   ]
  },
  {
   "cell_type": "code",
   "execution_count": 222,
   "id": "4e859042",
   "metadata": {},
   "outputs": [],
   "source": [
    "#  convert de Object data to number\n",
    "categories = {\"F\": 1, \"M\": 0}\n",
    "df_etudiant['Genre']= df_etudiant['Genre'].map(categories)"
   ]
  },
  {
   "cell_type": "code",
   "execution_count": 223,
   "id": "2d6ff9b7",
   "metadata": {},
   "outputs": [
    {
     "data": {
      "image/png": "[encoded data removed]",
      "text/plain": [
       "<Figure size 640x480 with 1 Axes>"
      ]
     },
     "metadata": {},
     "output_type": "display_data"
    }
   ],
   "source": [
    "# Exploring the target variable\n",
    "sns.countplot(x='Nom',hue='Moyenne',data=df_etudiant)\n",
    "plt.title('La Moyenne')\n",
    "plt.show()"
   ]
  },
  {
   "cell_type": "code",
   "execution_count": 224,
   "id": "4a3df58d",
   "metadata": {},
   "outputs": [
    {
     "data": {
      "image/png": "[encoded data removed]",
      "text/plain": [
       "<Figure size 640x480 with 1 Axes>"
      ]
     },
     "metadata": {},
     "output_type": "display_data"
    }
   ],
   "source": [
    "# Exploring the target variable\n",
    "sns.countplot(x='Genre',hue='Moyenne',data=df_etudiant)\n",
    "plt.title('La Moyenne')\n",
    "plt.show()"
   ]
  },
  {
   "cell_type": "code",
   "execution_count": 225,
   "id": "9a006ff4",
   "metadata": {},
   "outputs": [
    {
     "data": {
      "image/png": "[encoded data removed]",
      "text/plain": [
       "<Figure size 640x480 with 1 Axes>"
      ]
     },
     "metadata": {},
     "output_type": "display_data"
    }
   ],
   "source": [
    "# Exploring the target variable\n",
    "sns.histplot(x='Moyenne',hue='Genre',data=df_etudiant, shrink=10.0, multiple=\"dodge\")\n",
    "plt.title('La Moyenne')\n",
    "plt.show()"
   ]
  },
  {
   "cell_type": "code",
   "execution_count": 228,
   "id": "90d9083f",
   "metadata": {},
   "outputs": [
    {
     "data": {
      "image/png": "[encoded data removed]",
      "text/plain": [
       "<Figure size 640x480 with 1 Axes>"
      ]
     },
     "metadata": {},
     "output_type": "display_data"
    }
   ],
   "source": [
    "moyenne = df_etudiant[\"Moyenne\"]\n",
    "nom = df_etudiant[\"Nom\"]\n",
    "plt.pie(moyenne, labels=nom)\n",
    "plt.show()"
   ]
  },
  {
   "cell_type": "code",
   "execution_count": 244,
   "id": "9cdb8e46",
   "metadata": {},
   "outputs": [
    {
     "data": {
      "text/plain": [
       "0    12.000000\n",
       "1    15.000000\n",
       "2    19.333333\n",
       "3    21.666667\n",
       "4    19.666667\n",
       "Name: Moyenne, dtype: float64"
      ]
     },
     "execution_count": 244,
     "metadata": {},
     "output_type": "execute_result"
    }
   ],
   "source": [
    "moyen = df_etudiant[\"Moyenne\"]\n",
    "moyen"
   ]
  },
  {
   "cell_type": "code",
   "execution_count": 232,
   "id": "d5c56306",
   "metadata": {},
   "outputs": [],
   "source": [
    "gender = df_etudiant[\"Genre\"][1:]"
   ]
  },
  {
   "cell_type": "markdown",
   "id": "85eaca48",
   "metadata": {},
   "source": [
    "# Enregistrer notre Data (Exporter dans tout lke format que nous voulons excell, csv, txt ect \n"
   ]
  },
  {
   "cell_type": "code",
   "execution_count": 241,
   "id": "72c011ff",
   "metadata": {},
   "outputs": [],
   "source": [
    "# df_etudiant.to_excel(\"etudiant_moyenne.xlsx\")\n",
    "# df_etudiant.to_html(\"etudiant_moyenne.html\")\n",
    "# df_etudiant.to_csv(\"etudiant_moyenne.csv\", index=False)\n",
    "# df_etudiant.to_csv(\"etudiant_moyenne.txt\", index=False, sep='\\t')"
   ]
  },
  {
   "cell_type": "code",
   "execution_count": null,
   "id": "71398dc7",
   "metadata": {},
   "outputs": [],
   "source": []
  },
  {
   "cell_type": "code",
   "execution_count": null,
   "id": "d6355dc6",
   "metadata": {},
   "outputs": [],
   "source": []
  },
  {
   "cell_type": "code",
   "execution_count": null,
   "id": "1cebceaf",
   "metadata": {},
   "outputs": [],
   "source": []
  }
 ],
 "metadata": {
  "kernelspec": {
   "display_name": "Python 3 (ipykernel)",
   "language": "python",
   "name": "python3"
  },
  "language_info": {
   "codemirror_mode": {
    "name": "ipython",
    "version": 3
   },
   "file_extension": ".py",
   "mimetype": "text/x-python",
   "name": "python",
   "nbconvert_exporter": "python",
   "pygments_lexer": "ipython3",
   "version": "3.10.9"
  }
 },
 "nbformat": 4,
 "nbformat_minor": 5
}
